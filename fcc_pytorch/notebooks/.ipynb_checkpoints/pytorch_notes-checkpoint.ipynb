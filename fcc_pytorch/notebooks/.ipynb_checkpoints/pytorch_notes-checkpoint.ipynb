{
 "cells": [
  {
   "cell_type": "markdown",
   "id": "bfe3a393",
   "metadata": {},
   "source": [
    "# Pytorch Notes"
   ]
  },
  {
   "cell_type": "markdown",
   "id": "7c8dfdaa",
   "metadata": {},
   "source": [
    "## Setup\n",
    "Let's import the relevant modules here"
   ]
  },
  {
   "cell_type": "code",
   "execution_count": 38,
   "id": "cbbc55bb-9982-4f05-9e3f-7ae8afc288f7",
   "metadata": {},
   "outputs": [
    {
     "name": "stdout",
     "output_type": "stream",
     "text": [
      "2.0.1+cu117\n"
     ]
    }
   ],
   "source": [
    "import torch\n",
    "import pandas as pd\n",
    "import numpy as np\n",
    "import matplotlib.pyplot as plt\n",
    "print(torch.__version__) ## ensure that we have the right version of torch installed"
   ]
  },
  {
   "cell_type": "markdown",
   "id": "8903bc2e",
   "metadata": {},
   "source": [
    "## Tensors\n"
   ]
  },
  {
   "cell_type": "markdown",
   "id": "827b524e",
   "metadata": {},
   "source": [
    "**note** If you have tensors on different devices and you try to do something with them, you will get an error"
   ]
  },
  {
   "cell_type": "code",
   "execution_count": 39,
   "id": "5cea34d2",
   "metadata": {},
   "outputs": [],
   "source": [
    "A = torch.tensor(\n",
    "    [[3.0, 6.0, 9.0],\n",
    "     [2.0, 5.0, 8.0]],\n",
    "    dtype=int, # the dtype of the tensor  \n",
    "    device=\"cuda\", # the device the tensor is on\n",
    "    requires_grad=False # whether or not to track the gradient\n",
    ")"
   ]
  },
  {
   "cell_type": "code",
   "execution_count": 40,
   "id": "e236436e",
   "metadata": {},
   "outputs": [
    {
     "data": {
      "text/plain": [
       "torch.int64"
      ]
     },
     "execution_count": 40,
     "metadata": {},
     "output_type": "execute_result"
    }
   ],
   "source": [
    "A.dtype"
   ]
  },
  {
   "cell_type": "code",
   "execution_count": 41,
   "id": "4a008d60",
   "metadata": {},
   "outputs": [
    {
     "data": {
      "text/plain": [
       "torch.float16"
      ]
     },
     "execution_count": 41,
     "metadata": {},
     "output_type": "execute_result"
    }
   ],
   "source": [
    "A = A.type(torch.float16) # here we change the dtype to float 16\n",
    "A.dtype"
   ]
  },
  {
   "cell_type": "code",
   "execution_count": 42,
   "id": "795b1a1e",
   "metadata": {},
   "outputs": [
    {
     "data": {
      "text/plain": [
       "2"
      ]
     },
     "execution_count": 42,
     "metadata": {},
     "output_type": "execute_result"
    }
   ],
   "source": [
    "A.ndim # the number of axes"
   ]
  },
  {
   "cell_type": "code",
   "execution_count": 60,
   "id": "cef811de",
   "metadata": {},
   "outputs": [
    {
     "data": {
      "text/plain": [
       "torch.Size([2, 3])"
      ]
     },
     "execution_count": 60,
     "metadata": {},
     "output_type": "execute_result"
    }
   ],
   "source": [
    "A.shape # this shows us the size of A. Same as for A.size()"
   ]
  },
  {
   "cell_type": "markdown",
   "id": "f07dfc04",
   "metadata": {},
   "source": [
    "### Random Tensors"
   ]
  },
  {
   "cell_type": "code",
   "execution_count": 43,
   "id": "331767b8",
   "metadata": {},
   "outputs": [
    {
     "data": {
      "text/plain": [
       "tensor([[[0.9507, 0.0135, 0.1689, 0.5780],\n",
       "         [0.3377, 0.9122, 0.4930, 0.5018],\n",
       "         [0.8836, 0.7333, 0.8215, 0.9926]],\n",
       "\n",
       "        [[0.6209, 0.1857, 0.2116, 0.1637],\n",
       "         [0.7558, 0.2217, 0.7149, 0.6555],\n",
       "         [0.2896, 0.5202, 0.6177, 0.8374]]])"
      ]
     },
     "execution_count": 43,
     "metadata": {},
     "output_type": "execute_result"
    }
   ],
   "source": [
    "# creating random tensor of size (2, 3, 4)\n",
    "random_tensor = torch.rand(2, 3, 4) \n",
    "random_tensor"
   ]
  },
  {
   "cell_type": "code",
   "execution_count": 44,
   "id": "260708fc",
   "metadata": {},
   "outputs": [
    {
     "data": {
      "text/plain": [
       "torch.float32"
      ]
     },
     "execution_count": 44,
     "metadata": {},
     "output_type": "execute_result"
    }
   ],
   "source": [
    "random_tensor.dtype # the default dtype is float 32 if the data and dtype are not specified"
   ]
  },
  {
   "cell_type": "markdown",
   "id": "b788cbed",
   "metadata": {},
   "source": [
    "### Zeros and Ones Tensors"
   ]
  },
  {
   "cell_type": "code",
   "execution_count": 45,
   "id": "d3968403",
   "metadata": {},
   "outputs": [
    {
     "data": {
      "text/plain": [
       "tensor([[0., 0., 0., 0., 0.],\n",
       "        [0., 0., 0., 0., 0.],\n",
       "        [0., 0., 0., 0., 0.],\n",
       "        [0., 0., 0., 0., 0.],\n",
       "        [0., 0., 0., 0., 0.]])"
      ]
     },
     "execution_count": 45,
     "metadata": {},
     "output_type": "execute_result"
    }
   ],
   "source": [
    "zeros = torch.zeros(size=(5, 5))\n",
    "zeros"
   ]
  },
  {
   "cell_type": "code",
   "execution_count": 46,
   "id": "957e6988",
   "metadata": {},
   "outputs": [
    {
     "data": {
      "text/plain": [
       "tensor([[1., 1., 1., 1., 1.],\n",
       "        [1., 1., 1., 1., 1.],\n",
       "        [1., 1., 1., 1., 1.],\n",
       "        [1., 1., 1., 1., 1.],\n",
       "        [1., 1., 1., 1., 1.]])"
      ]
     },
     "execution_count": 46,
     "metadata": {},
     "output_type": "execute_result"
    }
   ],
   "source": [
    "ones = torch.ones(size=(5, 5))\n",
    "ones"
   ]
  },
  {
   "cell_type": "markdown",
   "id": "538e066b",
   "metadata": {},
   "source": [
    "### Like Tensors"
   ]
  },
  {
   "cell_type": "code",
   "execution_count": 47,
   "id": "2e02f994",
   "metadata": {},
   "outputs": [
    {
     "data": {
      "text/plain": [
       "tensor([[0., 0., 0.],\n",
       "        [0., 0., 0.]], device='cuda:0', dtype=torch.float16)"
      ]
     },
     "execution_count": 47,
     "metadata": {},
     "output_type": "execute_result"
    }
   ],
   "source": [
    "zero_like = torch.zeros_like(A) # creates a tensor of 0s with the same size as A\n",
    "zero_like"
   ]
  },
  {
   "cell_type": "code",
   "execution_count": 48,
   "id": "c4955898",
   "metadata": {},
   "outputs": [
    {
     "data": {
      "text/plain": [
       "tensor([[1., 1., 1.],\n",
       "        [1., 1., 1.]], device='cuda:0', dtype=torch.float16)"
      ]
     },
     "execution_count": 48,
     "metadata": {},
     "output_type": "execute_result"
    }
   ],
   "source": [
    "one_like = torch.ones_like(A)\n",
    "one_like"
   ]
  },
  {
   "cell_type": "code",
   "execution_count": 49,
   "id": "f0083949",
   "metadata": {},
   "outputs": [
    {
     "data": {
      "text/plain": [
       "tensor([[3., 3., 3.],\n",
       "        [3., 3., 3.]], device='cuda:0', dtype=torch.float16)"
      ]
     },
     "execution_count": 49,
     "metadata": {},
     "output_type": "execute_result"
    }
   ],
   "source": [
    "any_number = 3\n",
    "any_number_like = torch.full_like(A,any_number) # creates a tensor of any number with the same size as A\n",
    "any_number_like"
   ]
  },
  {
   "cell_type": "markdown",
   "id": "b369dca0",
   "metadata": {},
   "source": [
    "### Tensors with Range"
   ]
  },
  {
   "cell_type": "code",
   "execution_count": 50,
   "id": "95dd23a0",
   "metadata": {},
   "outputs": [
    {
     "data": {
      "text/plain": [
       "tensor([ 1,  2,  3,  4,  5,  6,  7,  8,  9, 10])"
      ]
     },
     "execution_count": 50,
     "metadata": {},
     "output_type": "execute_result"
    }
   ],
   "source": [
    "one_to_ten = torch.arange(1, 11)\n",
    "one_to_ten"
   ]
  },
  {
   "cell_type": "code",
   "execution_count": 51,
   "id": "4a31a528",
   "metadata": {},
   "outputs": [
    {
     "data": {
      "text/plain": [
       "tensor([1, 3, 5, 7, 9])"
      ]
     },
     "execution_count": 51,
     "metadata": {},
     "output_type": "execute_result"
    }
   ],
   "source": [
    "any_step = 2\n",
    "step = torch.arange(1, 11, any_step) # adding a step\n",
    "step"
   ]
  }
 ],
 "metadata": {
  "kernelspec": {
   "display_name": ".venv",
   "language": "python",
   "name": "python3"
  },
  "language_info": {
   "codemirror_mode": {
    "name": "ipython",
    "version": 3
   },
   "file_extension": ".py",
   "mimetype": "text/x-python",
   "name": "python",
   "nbconvert_exporter": "python",
   "pygments_lexer": "ipython3",
   "version": "3.10.0"
  }
 },
 "nbformat": 4,
 "nbformat_minor": 5
}
